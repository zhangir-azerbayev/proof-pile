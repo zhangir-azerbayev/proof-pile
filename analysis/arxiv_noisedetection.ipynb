{
 "cells": [
  {
   "cell_type": "code",
   "execution_count": 1,
   "id": "144be7eb",
   "metadata": {},
   "outputs": [],
   "source": [
    "import os\n",
    "import sys\n",
    "os.environ[\"CUDA_VISIBLE_DEVICES\"] = \"0\"\n",
    "\n",
    "import gzip\n",
    "import ndjson\n",
    "from tqdm import tqdm\n",
    "\n",
    "import matplotlib.pyplot as plt\n",
    "\n",
    "import torch\n",
    "\n",
    "from transformers import AutoTokenizer, AutoModelForCausalLM"
   ]
  },
  {
   "cell_type": "markdown",
   "id": "d5a4a22d",
   "metadata": {},
   "source": [
    "# Analyzing Arxiv Data\n",
    "The purpose of this notebook is to verify the integrity of the pre-processing pipeline for arXiv files used to build the `proof-pile`. In particular, I want to be confident that I am filtering out all text, that from a human or language model perspective, can be considered completely unintelligible. "
   ]
  },
  {
   "cell_type": "markdown",
   "id": "bdedf788",
   "metadata": {},
   "source": [
    "### Strategy\n",
    "The preprocessing heuristics described in the main `README` are informed by $\\LaTeX{}$ expertise and manual inspection of data. However, I am not aware of every single subtelty of $\\LaTeX$, and I can only inspect so many training examples. Therefore, these two methods of analysis do not completely convince me these heuristics yield a clean dataset.\n",
    "\n",
    "In this notebook I try to detect noise in the dataset by identifying documents that achieve a large loss when processed by an off-the-shelf pre-trained language model, specifically `EleutherAI/gpt-neo-125M`. "
   ]
  },
  {
   "cell_type": "markdown",
   "id": "4cf58680",
   "metadata": {},
   "source": [
    "### Code\n",
    "The next three cells are basic housekeeping: loading data and models. "
   ]
  },
  {
   "cell_type": "code",
   "execution_count": 2,
   "id": "107df731",
   "metadata": {},
   "outputs": [
    {
     "name": "stdout",
     "output_type": "stream",
     "text": [
      "loading data batch...\n"
     ]
    }
   ],
   "source": [
    "# load subset of data\n",
    "print(\"loading data batch...\")\n",
    "fle_name = \"/data/corpora/proof-pile/train/proofpile_train_0.jsonl\"\n",
    "with open(fle_name) as f: \n",
    "    data = ndjson.load(f)"
   ]
  },
  {
   "cell_type": "code",
   "execution_count": 3,
   "id": "65488a28",
   "metadata": {},
   "outputs": [],
   "source": [
    "torch.cuda.empty_cache()\n",
    "model = AutoModelForCausalLM.from_pretrained(\n",
    "    \"EleutherAI/gpt-neo-125M\").cuda()\n",
    "\n",
    "tokenizer = AutoTokenizer.from_pretrained(\n",
    "    \"EleutherAI/gpt-neo-125M\")\n",
    "\n",
    "tokenizer.pad_token = tokenizer.eos_token\n",
    "\n",
    "context = 2048"
   ]
  },
  {
   "cell_type": "code",
   "execution_count": 4,
   "id": "2dfa6f09",
   "metadata": {},
   "outputs": [
    {
     "name": "stdout",
     "output_type": "stream",
     "text": [
      "full batch length: 10000\n"
     ]
    }
   ],
   "source": [
    "# only look at arxiv. The rest of the data is very high quality and is definitely clean.\n",
    "# We also restrict our attention to 10,000 examples; I'm happy with this size of random sample.\n",
    "n = 10_000\n",
    "data = [x for x in data if \"config\" in x[\"meta\"] and x[\"meta\"][\"config\"]==\"arxiv\"][:n]\n",
    "\n",
    "print(f\"full batch length: {len(data)}\")"
   ]
  },
  {
   "cell_type": "markdown",
   "id": "f8b0bc68",
   "metadata": {},
   "source": [
    "As a sanity check, we append a random string of alphanumeric characters to our data. This should achieve a very high loss."
   ]
  },
  {
   "cell_type": "code",
   "execution_count": 5,
   "id": "8166e799",
   "metadata": {},
   "outputs": [],
   "source": [
    "import random\n",
    "import string\n",
    "data.append({\"text\": ''.join(random.choices(string.ascii_uppercase + string.digits, k=8000))})"
   ]
  },
  {
   "cell_type": "markdown",
   "id": "6aad534e",
   "metadata": {},
   "source": [
    "The following code calculates the LM loss for every document in the subset of the data we've loaded."
   ]
  },
  {
   "cell_type": "code",
   "execution_count": 6,
   "id": "2340d220",
   "metadata": {
    "scrolled": false
   },
   "outputs": [
    {
     "name": "stdout",
     "output_type": "stream",
     "text": [
      "We're going to get an indexing warning, ignore it.\n"
     ]
    },
    {
     "name": "stderr",
     "output_type": "stream",
     "text": [
      "  0%|                                                                                                                                                      | 0/10001 [00:00<?, ?it/s]Token indices sequence length is longer than the specified maximum sequence length for this model (12288 > 2048). Running this sequence through the model will result in indexing errors\n",
      "100%|████████████████████████████████████████████████████████████████████████████████████████████████████████████████████████████████████████| 10001/10001 [2:00:19<00:00,  1.39it/s]\n"
     ]
    }
   ],
   "source": [
    "loss_fn = torch.nn.CrossEntropyLoss(reduction='none')\n",
    "\n",
    "batch_size = 15\n",
    "\n",
    "print(\"We're going to get an indexing warning, ignore it.\")\n",
    "for i in tqdm(range(len(data))): \n",
    "    example = data[i]\n",
    "    \n",
    "    tokens = tokenizer([example[\"text\"]], \n",
    "                    return_tensors=\"pt\", \n",
    "                    padding=True, \n",
    "                    pad_to_multiple_of=context)\n",
    "        \n",
    "    tokens = {key: tokens[key].reshape((-1, context)).cuda() for key in tokens}   \n",
    "    \n",
    "    labels = tokens[\"input_ids\"].clone()\n",
    "        \n",
    "    unreduced_loss = 0\n",
    "    num_tokens = 0 \n",
    "    for j in range(0, tokens[\"input_ids\"].shape[0], batch_size):\n",
    "        this_ids = tokens[\"input_ids\"][j:j+batch_size, :]\n",
    "        this_mask = tokens[\"attention_mask\"][j:j+batch_size, :]\n",
    "        this_labels = labels[j:j+batch_size, :]\n",
    "    \n",
    "        with torch.no_grad():\n",
    "            out = model(input_ids=this_ids, attention_mask=this_mask)\n",
    "    \n",
    "        preds = out.logits[:, :-1, :]\n",
    "            \n",
    "    \n",
    "        preds = preds.flatten(end_dim=1)\n",
    "        flat_labels = this_labels[:, 1:].flatten()\n",
    "        flat_mask = this_mask[:, 1:].flatten()\n",
    "                \n",
    "        unreduced_loss += torch.sum(loss_fn(preds, flat_labels)*flat_mask).item()\n",
    "        num_tokens += torch.sum(flat_mask).item()\n",
    "    \n",
    "    loss = unreduced_loss/num_tokens       \n",
    "                      \n",
    "    data[i][\"loss\"] = loss"
   ]
  },
  {
   "cell_type": "markdown",
   "id": "c0fb1e36",
   "metadata": {},
   "source": [
    "### Analysis\n",
    "Let's plot a histogram of the losses."
   ]
  },
  {
   "cell_type": "code",
   "execution_count": 7,
   "id": "4d3595b2",
   "metadata": {},
   "outputs": [
    {
     "data": {
      "image/png": "[encoded data removed]",
      "text/plain": [
       "<Figure size 640x480 with 1 Axes>"
      ]
     },
     "metadata": {},
     "output_type": "display_data"
    }
   ],
   "source": [
    "losses = [x[\"loss\"] for x in data]\n",
    "plt.hist(losses)\n",
    "plt.title(\"Document-level losses (GPT-Neo 125M)\")\n",
    "plt.show()"
   ]
  },
  {
   "cell_type": "code",
   "execution_count": 8,
   "id": "e96cf901",
   "metadata": {},
   "outputs": [
    {
     "name": "stdout",
     "output_type": "stream",
     "text": [
      "random sequence loss:  5.274865955966158\n",
      "MOFSB3KIQG2CG3UYX4ULJO6R8P3LR9HXT4WGNU2DHXY2ZTMEUGT7P795TJH2GUDVGH1BDYPXM3YGKJQI51BX48RK49GWYET1XP2V ...\n"
     ]
    }
   ],
   "source": [
    "print(\"random sequence loss: \", data[-1][\"loss\"])\n",
    "print(data[-1][\"text\"][:100], \"...\")"
   ]
  },
  {
   "cell_type": "markdown",
   "id": "70c1193e",
   "metadata": {},
   "source": [
    "Our random sequence is the bar way at the far right, that's encouraging! Let's find the documents with the highest loss. "
   ]
  },
  {
   "cell_type": "code",
   "execution_count": 9,
   "id": "b7cc80a3",
   "metadata": {},
   "outputs": [
    {
     "name": "stdout",
     "output_type": "stream",
     "text": [
      "Index of 10 documents with highest loss\n",
      "[10000, 3328, 5252, 1968, 8180, 6028, 6179, 7617, 7301, 9196]\n"
     ]
    }
   ],
   "source": [
    "ordered_idxs = sorted(list(range(len(data))), key = lambda i: -data[i][\"loss\"])\n",
    "\n",
    "print(\"Index of 10 documents with highest loss\")\n",
    "print(ordered_idxs[:10])"
   ]
  },
  {
   "cell_type": "code",
   "execution_count": 10,
   "id": "83762917",
   "metadata": {},
   "outputs": [
    {
     "name": "stdout",
     "output_type": "stream",
     "text": [
      "loss :  4.3575476140923834\n",
      "\\section{Conclusions}\\label{C:sec6}\n",
      "Johns' TLM algorithm can be extended with benefit in two major directions\n",
      "by replacing transmission line links between cells with abstract scattering\n",
      "channels in terms of paired distributions and in admitting non-trivial cell\n",
      "interface scattering.\n",
      "Executing this program lead us in this paper to a new class of Dual Scattering\n",
      "Channel schemes which offer enhanced modeling potentiality and canonical\n",
      "techniques for stable algorithm design.\\\\\n",
      "\\textsc{SPINNER}'s implementation of a heat propagation scheme coupled to\n",
      "a lossy Maxwell field illustrates the approach.\\\\\n",
      "The connection and reflection cycles of a DSC process are (either) completely\n",
      "parallelizable, which can be turned into account in computational performance.\n",
      "DSC schemes open a challenging field to future research. Applications to fluid\n",
      "dynamics are presently under examination.\n"
     ]
    }
   ],
   "source": [
    "idx = 1\n",
    "print(\"loss : \", data[ordered_idxs[idx]][\"loss\"])\n",
    "print(data[ordered_idxs[idx]][\"text\"])"
   ]
  },
  {
   "cell_type": "markdown",
   "id": "46c7c419",
   "metadata": {},
   "source": [
    "### Discussion\n",
    "In the cell above, we can set `idx = n` to view the document that generates `n`th highest loss. We can see even the documents that yield the highest losses look like high quality, useful data. This means we can be relatively confident our pre-training data is free of complete noise. \n",
    "\n",
    "A limitation of this approach is that `gpt-neo` itself was trained on arXiv, and if EleutherAI's preprocessing pipeline allowed some noise into the pre-training data, `gpt-neo` might've learned that noise and be unable to detect it. "
   ]
  }
 ],
 "metadata": {
  "kernelspec": {
   "display_name": "Python 3",
   "language": "python",
   "name": "python3"
  },
  "language_info": {
   "codemirror_mode": {
    "name": "ipython",
    "version": 3
   },
   "file_extension": ".py",
   "mimetype": "text/x-python",
   "name": "python",
   "nbconvert_exporter": "python",
   "pygments_lexer": "ipython3",
   "version": "3.10.4"
  }
 },
 "nbformat": 4,
 "nbformat_minor": 5
}
