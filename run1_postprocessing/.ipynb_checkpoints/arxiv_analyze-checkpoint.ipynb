{
 "cells": [
  {
   "cell_type": "code",
   "execution_count": 1,
   "id": "144be7eb",
   "metadata": {},
   "outputs": [],
   "source": [
    "import os\n",
    "import sys\n",
    "os.environ[\"CUDA_VISIBLE_DEVICES\"] = \"1\"\n",
    "\n",
    "import gzip\n",
    "import ndjson\n",
    "from tqdm import tqdm\n",
    "\n",
    "import matplotlib.pyplot as plt\n",
    "\n",
    "import torch\n",
    "\n",
    "from transformers import AutoTokenizer, AutoModelForCausalLM"
   ]
  },
  {
   "cell_type": "markdown",
   "id": "d5a4a22d",
   "metadata": {},
   "source": [
    "# Analyzing Arxiv Data\n",
    "The purpose of this notebook is to make sure I am filtering arXiv.math properly for inclusion in the proof-pile. \n",
    "\n",
    "We are working on commit `d2ed9e500d8df9db25a6e5c86139a196d700a22e` \n",
    "\n",
    "In the main data cleaning script `fetch_arxiv.py`, we apply the following preprocessing steps to source files\n",
    "- Delete everything outside of `\\begin{document}` and  `\\end{document}` \n",
    "- Delete everything including and after `\\Refs` or `\\begin{thebibliography}`, `\\begin{references}`. \n",
    "- Delete comments\n",
    "\n",
    "After preprocessing, we include a file in the dataset only if it meets the following criteria.\n",
    "- `.tex` extension. \n",
    "- At least 280 characters. \n",
    "- Using `utf-8`, `utf-16`, `utf-32`, or `latin-1` text encoding. \n",
    "- Articles is in English, as determined by the [langdetect library](https://pypi.org/project/langdetect/). \n",
    "\n",
    "The above is the data that is on the current huggingface page. \n",
    "\n",
    "In the file `run1_postprocessing/make_files.py`, we apply the following additional preprocessing steps to produce the final data that proof-GPTv0.1 is trained on.\n",
    "- Delete files that do not contain a part, chapter, section, sub...section, paragraph, or subparagraph heading. \n",
    "- Delete files that contain the keyword \"gnuplot\". The Gnuplot-latex utility generates large blocks of basically unintelligible source. \n",
    "- Delete everything including and enclosed by `\\begin{bibdiv}` and `\\end{bibdiv}`. \n",
    "- `>3` consectuive newlines are replaced with 3 newlines. "
   ]
  },
  {
   "cell_type": "markdown",
   "id": "bdedf788",
   "metadata": {},
   "source": [
    "### Strategy\n",
    "However, I am still worried this is not enough. In this notebook I plan to detect bad files by identifying those that achieve an extremely large loss using a pre-trained language model, specifically `\n",
    "`EleutherAI/pythia-125m-deduped `. "
   ]
  },
  {
   "cell_type": "code",
   "execution_count": 2,
   "id": "107df731",
   "metadata": {},
   "outputs": [
    {
     "name": "stdout",
     "output_type": "stream",
     "text": [
      "loading data batch...\n"
     ]
    }
   ],
   "source": [
    "# load subset of data\n",
    "print(\"loading data batch...\")\n",
    "fle_name = \"/data/corpora/proof-pile/train/proofpile_train_0.jsonl\"\n",
    "with open(fle_name) as f: \n",
    "    data = ndjson.load(f)"
   ]
  },
  {
   "cell_type": "code",
   "execution_count": 3,
   "id": "65488a28",
   "metadata": {},
   "outputs": [],
   "source": [
    "torch.cuda.empty_cache()\n",
    "model = AutoModelForCausalLM.from_pretrained(\n",
    "    \"EleutherAI/pythia-125m-deduped\").cuda()\n",
    "\n",
    "tokenizer = AutoTokenizer.from_pretrained(\n",
    "    \"EleutherAI/pythia-125m-deduped\")\n",
    "\n",
    "tokenizer.pad_token = tokenizer.eos_token\n",
    "\n",
    "context = 2048"
   ]
  },
  {
   "cell_type": "code",
   "execution_count": 4,
   "id": "2dfa6f09",
   "metadata": {},
   "outputs": [
    {
     "name": "stdout",
     "output_type": "stream",
     "text": [
      "full batch length: 100000\n",
      "subset length: 717\n"
     ]
    }
   ],
   "source": [
    "n = 10000\n",
    "\n",
    "# only look at arxiv. The rest of the data is very high quality and is definitely clean.\n",
    "tiny = [x for x in data[:n] if \"config\" in x[\"meta\"] and x[\"meta\"][\"config\"]==\"arxiv\"]\n",
    "\n",
    "print(f\"full batch length: {len(data)}\")\n",
    "print(f\"subset length: {len(tiny)}\")"
   ]
  },
  {
   "cell_type": "markdown",
   "id": "08675e6e",
   "metadata": {},
   "source": [
    "As a sanity check, we append a random string of alphanumeric characters to our data. This should achieve a very high loss."
   ]
  },
  {
   "cell_type": "code",
   "execution_count": 5,
   "id": "4b1abeb6",
   "metadata": {},
   "outputs": [],
   "source": [
    "import random\n",
    "import string\n",
    "tiny.append({\"text\": ''.join(random.choices(string.ascii_uppercase + string.digits, k=8000))})"
   ]
  },
  {
   "cell_type": "code",
   "execution_count": 6,
   "id": "2340d220",
   "metadata": {
    "scrolled": false
   },
   "outputs": [
    {
     "name": "stdout",
     "output_type": "stream",
     "text": [
      "We're going to get an indexing warning, ignore it.\n"
     ]
    },
    {
     "name": "stderr",
     "output_type": "stream",
     "text": [
      "  0%|                                                             | 0/718 [00:00<?, ?it/s]Token indices sequence length is longer than the specified maximum sequence length for this model (12288 > 2048). Running this sequence through the model will result in indexing errors\n",
      "100%|███████████████████████████████████████████████████| 718/718 [08:48<00:00,  1.36it/s]\n"
     ]
    }
   ],
   "source": [
    "loss_fn = torch.nn.CrossEntropyLoss(reduction='none')\n",
    "\n",
    "batch_size = 15\n",
    "\n",
    "print(\"We're going to get an indexing warning, ignore it.\")\n",
    "for i in tqdm(range(len(tiny))): \n",
    "    example = tiny[i]\n",
    "    \n",
    "    tokens = tokenizer([example[\"text\"]], \n",
    "                    return_tensors=\"pt\", \n",
    "                    padding=True, \n",
    "                    pad_to_multiple_of=context)\n",
    "        \n",
    "    tokens = {key: tokens[key].reshape((-1, context)).cuda() for key in tokens}   \n",
    "    \n",
    "    labels = tokens[\"input_ids\"].clone()\n",
    "        \n",
    "    unreduced_loss = 0\n",
    "    num_tokens = 0 \n",
    "    for j in range(0, tokens[\"input_ids\"].shape[0], batch_size):\n",
    "        this_ids = tokens[\"input_ids\"][j:j+batch_size, :]\n",
    "        this_mask = tokens[\"attention_mask\"][j:j+batch_size, :]\n",
    "        this_labels = labels[j:j+batch_size, :]\n",
    "    \n",
    "        with torch.no_grad():\n",
    "            out = model(input_ids=this_ids, attention_mask=this_mask)\n",
    "    \n",
    "        preds = out.logits[:, :-1, :]\n",
    "            \n",
    "    \n",
    "        preds = preds.flatten(end_dim=1)\n",
    "        flat_labels = this_labels[:, 1:].flatten()\n",
    "        flat_mask = this_mask[:, 1:].flatten()\n",
    "                \n",
    "        unreduced_loss += torch.sum(loss_fn(preds, flat_labels)*flat_mask).item()\n",
    "        num_tokens += torch.sum(flat_mask).item()\n",
    "    \n",
    "    loss = unreduced_loss/num_tokens       \n",
    "                      \n",
    "    tiny[i][\"loss\"] = loss"
   ]
  },
  {
   "cell_type": "code",
   "execution_count": 7,
   "id": "88c7803e",
   "metadata": {},
   "outputs": [
    {
     "data": {
      "image/png": "[encoded data removed]",
      "text/plain": [
       "<Figure size 640x480 with 1 Axes>"
      ]
     },
     "metadata": {},
     "output_type": "display_data"
    }
   ],
   "source": [
    "losses = [x[\"loss\"] for x in tiny]\n",
    "plt.hist(losses)\n",
    "plt.title(\"Document-level losses (GPT-Neo 125M)\")\n",
    "plt.show()"
   ]
  },
  {
   "cell_type": "code",
   "execution_count": 14,
   "id": "7d616df3",
   "metadata": {},
   "outputs": [
    {
     "name": "stdout",
     "output_type": "stream",
     "text": [
      "random sequence loss:  5.327381692874204\n",
      "DN0INBA9IAA9P7SLKKZPUWK3HN8DMJ9BNL4SVRLC479U242YXJH44MYEWCYNDG7MXI2UNEMSGE6UW39WKRHSJ9RKWBCWDYRLAHRD ...\n"
     ]
    }
   ],
   "source": [
    "print(\"random sequence loss: \", tiny[-1][\"loss\"])\n",
    "print(tiny[-1][\"text\"][:100], \"...\")"
   ]
  },
  {
   "cell_type": "code",
   "execution_count": 15,
   "id": "cafed0ac",
   "metadata": {},
   "outputs": [
    {
     "name": "stdout",
     "output_type": "stream",
     "text": [
      "Index of 10 documents with highest loss\n",
      "[717, 46, 238, 352, 197, 33, 520, 502, 139, 403]\n"
     ]
    }
   ],
   "source": [
    "ordered_idxs = sorted(list(range(len(tiny))), key = lambda i: -tiny[i][\"loss\"])\n",
    "\n",
    "print(\"Index of 10 documents with highest loss\")\n",
    "print(ordered_idxs[:10])"
   ]
  },
  {
   "cell_type": "code",
   "execution_count": null,
   "id": "fe52db27",
   "metadata": {},
   "outputs": [],
   "source": []
  },
  {
   "cell_type": "code",
   "execution_count": 16,
   "id": "2d0e7eac",
   "metadata": {},
   "outputs": [
    {
     "name": "stdout",
     "output_type": "stream",
     "text": [
      "loss :  3.4214292093012535\n",
      "\\section{Discussion}\n",
      "\\label{sec:Discussion}\n",
      "\n",
      "In this paper, we have provided a new method for the featurization of persistence diagrams through the use of template functions; that is, collections of functions compactly supported on the upper half plane away from the diagonal whose induced functions on diagrams separate points.\n",
      "To do this, we further gave a complete description of compact sets in persistence diagram space endowed with the bottleneck distance.\n",
      "\n",
      "This method of featurization allows for a great deal of flexibility for the end user.\n",
      "In particular, we have provided two options for template functions, tent functions and interpolating polynomials, but surely there are many other collections of functions which could be tested for optimizing classification and regression tasks.\n",
      "We showed these two functions worked quite well on standard experiments, as well as in comparison to other methods available in the literature.\n",
      "\n",
      "We find the particular results of the SHREC data set (\\cref{sec:UliShapeData}) to be quite fascinating due to the vast improvement seen from tent functions to interpolating polynomials.\n",
      "The usual knee-jerk reaction to setting up these featurization methods for persistence diagrams is that localization is key.\n",
      "This was the impetus for creation of the tent functions as they have support contained in a small box, so each tent function truly only sees a small window of the diagram.\n",
      "Meanwhile, the interpolating polynomials are nonzero well away from their chosen ``basepoint'' so the fact that these functions work at all is surprising to say the least.\n",
      "\n",
      "We hope to understand this behavior further in the course of future work.\n"
     ]
    }
   ],
   "source": [
    "idx = 1\n",
    "print(\"loss : \", tiny[ordered_idxs[idx]][\"loss\"])\n",
    "print(tiny[ordered_idxs[idx]][\"text\"])"
   ]
  }
 ],
 "metadata": {
  "kernelspec": {
   "display_name": "Python 3",
   "language": "python",
   "name": "python3"
  },
  "language_info": {
   "codemirror_mode": {
    "name": "ipython",
    "version": 3
   },
   "file_extension": ".py",
   "mimetype": "text/x-python",
   "name": "python",
   "nbconvert_exporter": "python",
   "pygments_lexer": "ipython3",
   "version": "3.10.4"
  }
 },
 "nbformat": 4,
 "nbformat_minor": 5
}
